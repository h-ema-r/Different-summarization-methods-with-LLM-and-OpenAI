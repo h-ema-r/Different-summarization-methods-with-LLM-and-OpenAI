{
 "cells": [
  {
   "cell_type": "code",
   "execution_count": null,
   "id": "00958e20",
   "metadata": {},
   "outputs": [],
   "source": [
    "import os\n",
    "from dotenv import load_dotenv, find_dotenv\n",
    "load_dotenv(find_dotenv(), override=True)"
   ]
  },
  {
   "cell_type": "code",
   "execution_count": null,
   "id": "1e7e0df3",
   "metadata": {},
   "outputs": [],
   "source": [
    "from langchain.chat_models import ChatOpenAI\n",
    "from langchain import PromptTemplate\n",
    "from langchain.chains.summarize import load_summarize_chain\n",
    "from langchain.text_splitter import RecursiveCharacterTextSplitter\n",
    "from langchain.document_loader import UnstructuredPDFLoader"
   ]
  },
  {
   "cell_type": "code",
   "execution_count": null,
   "id": "2a3f5185",
   "metadata": {},
   "outputs": [],
   "source": [
    "!pip install unstructured -q"
   ]
  },
  {
   "cell_type": "code",
   "execution_count": null,
   "id": "5f9737ad",
   "metadata": {},
   "outputs": [],
   "source": [
    "!pip install pdf2image"
   ]
  },
  {
   "cell_type": "code",
   "execution_count": null,
   "id": "fba0528e",
   "metadata": {},
   "outputs": [],
   "source": [
    "loader = UnstructuredPDFLoader('attention_is_all_you_need.pdf')\n",
    "data = loader.load()"
   ]
  },
  {
   "cell_type": "code",
   "execution_count": null,
   "id": "d2de98f5",
   "metadata": {},
   "outputs": [],
   "source": [
    "#print(data[0].page_content)"
   ]
  },
  {
   "cell_type": "code",
   "execution_count": null,
   "id": "e9ba55ff",
   "metadata": {},
   "outputs": [],
   "source": [
    "text_splitter=RecursiveCharacterTextSplitter(chunks_size=10000, chunks_overlap=100)\n",
    "chunks = text_splitter.split_documents(data)"
   ]
  },
  {
   "cell_type": "code",
   "execution_count": null,
   "id": "5185d472",
   "metadata": {},
   "outputs": [],
   "source": [
    "len(chunks)"
   ]
  },
  {
   "cell_type": "code",
   "execution_count": null,
   "id": "e019285e",
   "metadata": {},
   "outputs": [],
   "source": [
    "llm = ChatOpenAI(temperature=0, model_name='gpt-3.5-turbo')"
   ]
  },
  {
   "cell_type": "code",
   "execution_count": null,
   "id": "e94e414a",
   "metadata": {},
   "outputs": [],
   "source": [
    "def print_embedding_cost(texts):\n",
    "    import tiktoken\n",
    "    enc=tiktoken.encoding_for_model('gpt-3.5-turbo')\n",
    "    total_tokens=sum([len(enc.encode(page.page_content)) for page in texts])\n",
    "    print(f'Total Tokens:{total_tokens}')\n",
    "    print(f'Embedding Cost in USD:{total_tokens/1000*0.002:.6f}')\n",
    "    \n",
    "print_embedding_cost(chunks)"
   ]
  },
  {
   "cell_type": "code",
   "execution_count": null,
   "id": "825aac3b",
   "metadata": {},
   "outputs": [],
   "source": [
    "chain = load_summarize_chain(\n",
    "   llm=llm,\n",
    "   chain_type='refine',\n",
    "    verbose=False\n",
    ")\n",
    "\n",
    "output_summary = chain.run(chunks)"
   ]
  },
  {
   "cell_type": "code",
   "execution_count": null,
   "id": "81afc8a0",
   "metadata": {},
   "outputs": [],
   "source": [
    "print(output_sumamry)"
   ]
  },
  {
   "cell_type": "markdown",
   "id": "0731c9d0",
   "metadata": {},
   "source": [
    "# Refine With Custom Prompts"
   ]
  },
  {
   "cell_type": "code",
   "execution_count": 1,
   "id": "6afeb095",
   "metadata": {},
   "outputs": [],
   "source": [
    "prompt_template = \"\"\"\n",
    "Write a concise summary of the following extracting the key information:\n",
    "Text:'{text}'\n",
    "CONCISE SUMMARY\"\"\"\n",
    "\n",
    "initial_prompt = PromptTemplate(template= prompt_template, input_variable=['text'])\n",
    "\n",
    "refine_template ='''\n",
    "Your job is to produce a final summary.\n",
    "I have provided an existing sumamry up to certain point: {existing_answer}.\n",
    "Please refine the existing sumamry with some more context below.\n",
    "--------\n",
    "{text}\n",
    "--------\n",
    "Start the final summary with an INTRODUCTION PARAGRAPH that gives an overview of the topic FOLLOWED\n",
    "by BULLET POINTS if possible AND end the summary with a CONCLUSION PHRASE.\n",
    "'''\n",
    "refine_prompt = PromptTemplate(template=refine_template,\n",
    "            input_variables=['existing_answer','text'])\n"
   ]
  },
  {
   "cell_type": "code",
   "execution_count": null,
   "id": "78095b61",
   "metadata": {},
   "outputs": [],
   "source": [
    "chain=load_summarize_chain(\n",
    "    llm=llm,\n",
    "    chain_type='refine',\n",
    "    question_prompt=initial_prompt,\n",
    "    refine_prompt=refine_prompt,\n",
    "    return_intermediate_steps=False\n",
    ")\n",
    "output_summary=chain.run(chunks)"
   ]
  },
  {
   "cell_type": "code",
   "execution_count": null,
   "id": "d6786eb2",
   "metadata": {},
   "outputs": [],
   "source": [
    "print(output_summary)"
   ]
  },
  {
   "cell_type": "code",
   "execution_count": null,
   "id": "bbb03be5",
   "metadata": {},
   "outputs": [],
   "source": []
  }
 ],
 "metadata": {
  "kernelspec": {
   "display_name": "Python 3 (ipykernel)",
   "language": "python",
   "name": "python3"
  },
  "language_info": {
   "codemirror_mode": {
    "name": "ipython",
    "version": 3
   },
   "file_extension": ".py",
   "mimetype": "text/x-python",
   "name": "python",
   "nbconvert_exporter": "python",
   "pygments_lexer": "ipython3",
   "version": "3.11.3"
  }
 },
 "nbformat": 4,
 "nbformat_minor": 5
}
