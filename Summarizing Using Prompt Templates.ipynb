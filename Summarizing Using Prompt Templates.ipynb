{
 "cells": [
  {
   "cell_type": "code",
   "execution_count": null,
   "id": "3aa14af3",
   "metadata": {},
   "outputs": [],
   "source": [
    "import os\n",
    "from dotenv import load_dotenv, find_dotenv\n",
    "load_dotenv(find_dotenv(), override=True)"
   ]
  },
  {
   "cell_type": "code",
   "execution_count": null,
   "id": "5bcb35be",
   "metadata": {},
   "outputs": [],
   "source": [
    "text=\"\"\"\n",
    "Artificial intelligence (AI) is the intelligence of machines or software, as opposed to the intelligence of humans or other living beings. \n",
    "It is a field of study in computer science that develops and studies intelligent machines. Such machines may be called AIs.\n",
    "\n",
    "AI technology is widely used throughout industry, government, and science.\n",
    "Some high-profile applications are: advanced web search engines (e.g., Google Search), recommendation systems (used by YouTube, Amazon, and Netflix), interacting via human speech (such as Google Assistant, Siri, and Alexa), self-driving cars (e.g., Waymo), generative and creative tools (ChatGPT and AI art), and superhuman play and analysis in strategy games (such as chess and Go).\n",
    "\n",
    "Alan Turing was the first person to conduct substantial research in the field that he called Machine Intelligence.[2] Artificial intelligence was founded as an academic discipline in 1956.[3] The field went through multiple cycles of optimism[4][5] followed by disappointment and loss of funding.\n",
    "Funding and interest vastly increased after 2012 when deep learning surpassed all previous AI techniques,\n",
    "and after 2017 with the transformer architecture.[9] This led to the AI spring of the early 2020s, with companies, universities, and laboratories overwhelmingly based in the United States pioneering significant advances in artificial intelligence.[10]\n",
    "\n",
    "The various sub-fields of AI research are centered around particular goals and the use of particular tools. The traditional goals of AI research include reasoning, knowledge representation, planning, learning, natural language processing, perception, and support for robotics.\n",
    "General intelligence (the ability to complete any task performable by a human) is among the field's long-term goals.[11]\n",
    "\n",
    "To solve these problems, AI researchers have adapted and integrated a wide range of problem-solving techniques, including search and mathematical optimization, formal logic, artificial neural networks, and methods based on statistics, operations research, and economics.\n",
    "AI also draws upon psychology, linguistics, philosophy, neuroscience and other fields\n",
    "\"\"\""
   ]
  },
  {
   "cell_type": "code",
   "execution_count": null,
   "id": "981fab2c",
   "metadata": {},
   "outputs": [],
   "source": [
    "template='''\n",
    "Write a concise and short summary of the following text:\n",
    "TEXT:'{text}'\n",
    "Translate the summary to {language}.\n",
    "'''\n",
    "prompt = PromptTemplate(\n",
    "input_variables=['text', 'langugae'],\n",
    "    template = template\n",
    ")"
   ]
  },
  {
   "cell_type": "code",
   "execution_count": null,
   "id": "9663e04b",
   "metadata": {},
   "outputs": [],
   "source": [
    "llm.get_num_tokens(prompt.format(text=text, language='English'))"
   ]
  },
  {
   "cell_type": "code",
   "execution_count": null,
   "id": "c4f08526",
   "metadata": {},
   "outputs": [],
   "source": [
    "chain = LLMChain(llm=llm, prompt=prompt)\n",
    "summary = chain.run({'text':text, 'language':'hindi'})"
   ]
  },
  {
   "cell_type": "code",
   "execution_count": null,
   "id": "1ee31fb1",
   "metadata": {},
   "outputs": [],
   "source": [
    "print(summary)"
   ]
  }
 ],
 "metadata": {
  "kernelspec": {
   "display_name": "Python 3 (ipykernel)",
   "language": "python",
   "name": "python3"
  },
  "language_info": {
   "codemirror_mode": {
    "name": "ipython",
    "version": 3
   },
   "file_extension": ".py",
   "mimetype": "text/x-python",
   "name": "python",
   "nbconvert_exporter": "python",
   "pygments_lexer": "ipython3",
   "version": "3.11.3"
  }
 },
 "nbformat": 4,
 "nbformat_minor": 5
}
