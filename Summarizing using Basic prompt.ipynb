{
 "cells": [
  {
   "cell_type": "code",
   "execution_count": null,
   "id": "cc79c994",
   "metadata": {},
   "outputs": [],
   "source": [
    "import os\n",
    "from dotenv import load_dotenv, find_dotenv\n",
    "load_dotenv(find_dotenv(), override=True)"
   ]
  },
  {
   "cell_type": "markdown",
   "id": "626bfd9f",
   "metadata": {},
   "source": [
    "# A) Basic Prompt"
   ]
  },
  {
   "cell_type": "code",
   "execution_count": null,
   "id": "b5739d4a",
   "metadata": {},
   "outputs": [],
   "source": [
    "from langchain.chat_models import ChatOpenAI\n",
    "from langchain.schema import (\n",
    "AIMessage,\n",
    "HumanMessage,\n",
    "SystemMessage\n",
    ")"
   ]
  },
  {
   "cell_type": "code",
   "execution_count": null,
   "id": "2397648d",
   "metadata": {},
   "outputs": [],
   "source": [
    "text=\"\"\"\n",
    "Artificial intelligence (AI) is the intelligence of machines or software, as opposed to the intelligence of humans or other living beings. \n",
    "It is a field of study in computer science that develops and studies intelligent machines. Such machines may be called AIs.\n",
    "\n",
    "AI technology is widely used throughout industry, government, and science.\n",
    "Some high-profile applications are: advanced web search engines (e.g., Google Search), recommendation systems (used by YouTube, Amazon, and Netflix), interacting via human speech (such as Google Assistant, Siri, and Alexa), self-driving cars (e.g., Waymo), generative and creative tools (ChatGPT and AI art), and superhuman play and analysis in strategy games (such as chess and Go).\n",
    "\n",
    "Alan Turing was the first person to conduct substantial research in the field that he called Machine Intelligence.[2] Artificial intelligence was founded as an academic discipline in 1956.[3] The field went through multiple cycles of optimism[4][5] followed by disappointment and loss of funding.\n",
    "Funding and interest vastly increased after 2012 when deep learning surpassed all previous AI techniques,\n",
    "and after 2017 with the transformer architecture.[9] This led to the AI spring of the early 2020s, with companies, universities, and laboratories overwhelmingly based in the United States pioneering significant advances in artificial intelligence.[10]\n",
    "\n",
    "The various sub-fields of AI research are centered around particular goals and the use of particular tools. The traditional goals of AI research include reasoning, knowledge representation, planning, learning, natural language processing, perception, and support for robotics.\n",
    "General intelligence (the ability to complete any task performable by a human) is among the field's long-term goals.[11]\n",
    "\n",
    "To solve these problems, AI researchers have adapted and integrated a wide range of problem-solving techniques, including search and mathematical optimization, formal logic, artificial neural networks, and methods based on statistics, operations research, and economics.\n",
    "AI also draws upon psychology, linguistics, philosophy, neuroscience and other fields\n",
    "\"\"\"\n",
    "\n",
    "messages = [\n",
    "    SystemMessage(content = 'You are an expert copywriter with expertize in summarizing documents'),\n",
    "    HummanMessage(content=f'Please provide a short and concise summary of the following text:\\n TEXT:{text}')\n",
    "    \n",
    "]\n",
    "llm= ChatOpenAI(temperature=0, model_name='gpt-3.5-turbo')\n"
   ]
  },
  {
   "cell_type": "code",
   "execution_count": null,
   "id": "f129058b",
   "metadata": {},
   "outputs": [],
   "source": [
    "summary_output = llm(messages)"
   ]
  },
  {
   "cell_type": "code",
   "execution_count": null,
   "id": "f364dc92",
   "metadata": {},
   "outputs": [],
   "source": [
    "print(summary_output.content)"
   ]
  },
  {
   "cell_type": "code",
   "execution_count": null,
   "id": "4337263c",
   "metadata": {},
   "outputs": [],
   "source": []
  }
 ],
 "metadata": {
  "kernelspec": {
   "display_name": "Python 3 (ipykernel)",
   "language": "python",
   "name": "python3"
  },
  "language_info": {
   "codemirror_mode": {
    "name": "ipython",
    "version": 3
   },
   "file_extension": ".py",
   "mimetype": "text/x-python",
   "name": "python",
   "nbconvert_exporter": "python",
   "pygments_lexer": "ipython3",
   "version": "3.11.3"
  }
 },
 "nbformat": 4,
 "nbformat_minor": 5
}
