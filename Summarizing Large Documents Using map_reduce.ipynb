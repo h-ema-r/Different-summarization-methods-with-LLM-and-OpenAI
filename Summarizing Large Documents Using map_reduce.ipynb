{
 "cells": [
  {
   "cell_type": "code",
   "execution_count": null,
   "id": "76bc3929",
   "metadata": {},
   "outputs": [],
   "source": [
    "import os\n",
    "from dotenv import load_dotenv, find_dotenv\n",
    "load_dotenv(find_dotenv(), override=True)"
   ]
  },
  {
   "cell_type": "code",
   "execution_count": null,
   "id": "3f3d9cd9",
   "metadata": {},
   "outputs": [],
   "source": [
    "from langchain import PromptTemplate\n",
    "from langchain.chat_models import ChatOpenAI\n",
    "from langchain.chains.summarize import load_summarize_chain\n",
    "from langchain.text_splitter import RecursiveCharacterTextSplitter"
   ]
  },
  {
   "cell_type": "code",
   "execution_count": null,
   "id": "1bb75544",
   "metadata": {},
   "outputs": [],
   "source": [
    "with open('sj.text', encoding='utf-8') as f:\n",
    "    text = f.read()\n",
    "llm= ChatOpenAI(temperature=0, model_name='gpt-3.5-turbo')"
   ]
  },
  {
   "cell_type": "code",
   "execution_count": null,
   "id": "8d656854",
   "metadata": {},
   "outputs": [],
   "source": [
    "llm.get_num(text)"
   ]
  },
  {
   "cell_type": "code",
   "execution_count": null,
   "id": "e3fde9dc",
   "metadata": {},
   "outputs": [],
   "source": [
    "text_splitter= RecursiveCharacterTextSplitter(chunk_size=10000, chunk_overlap=50)\n",
    "chunks=text_splitter.create_documents([text])"
   ]
  },
  {
   "cell_type": "code",
   "execution_count": null,
   "id": "725a1ce8",
   "metadata": {},
   "outputs": [],
   "source": [
    "len(chunks)"
   ]
  },
  {
   "cell_type": "code",
   "execution_count": null,
   "id": "6809c3ba",
   "metadata": {},
   "outputs": [],
   "source": [
    "chain = load_summarize_chain(\n",
    "llm, \n",
    "chain_type='map_reduce',\n",
    "verbose=False\n",
    ")\n",
    "output_summary=chain.run(chunks)"
   ]
  },
  {
   "cell_type": "code",
   "execution_count": null,
   "id": "fd99b809",
   "metadata": {},
   "outputs": [],
   "source": [
    "print(output_summary)"
   ]
  },
  {
   "cell_type": "code",
   "execution_count": null,
   "id": "82274c35",
   "metadata": {},
   "outputs": [],
   "source": [
    "chain.llm_chain.prompt.template"
   ]
  },
  {
   "cell_type": "code",
   "execution_count": null,
   "id": "e2307559",
   "metadata": {},
   "outputs": [],
   "source": [
    "chain.combine_documment_chain.llm_chain.prompt.template"
   ]
  },
  {
   "cell_type": "markdown",
   "id": "5db50d5e",
   "metadata": {},
   "source": [
    "# map_resuce with custom prompts"
   ]
  },
  {
   "cell_type": "code",
   "execution_count": null,
   "id": "5b7e2950",
   "metadata": {},
   "outputs": [],
   "source": [
    "map_prompt ='''\n",
    "Write a short and concise summary of the following:\n",
    "Text: '{text}'\n",
    "CONCISE SUMMARY:\n",
    "'''\n",
    "\n",
    "map_prompt_template = PromptTemplate(\n",
    "input_variable=['text'],\n",
    "    template = map_prompt\n",
    ")"
   ]
  },
  {
   "cell_type": "code",
   "execution_count": null,
   "id": "4d496d0a",
   "metadata": {},
   "outputs": [],
   "source": [
    "combine_prompt ='''\n",
    "Write a concise sumamry of the following text that covers the key points.\n",
    "Add a title to the sumamry\n",
    "Start your summary with an INTRODUCTION PARAGRAPH that gives an overview of the topic FOLLOWED\n",
    "by BULLET POINTS if possible AND end the summary with a CONCLUSION PHRASE.\n",
    "Text: '{text}'\n",
    "'''\n",
    "\n",
    "combine_prompt_template = PromptTemplate(template=combine_prompt, input_variable=['text'])"
   ]
  },
  {
   "cell_type": "code",
   "execution_count": null,
   "id": "afc18a17",
   "metadata": {},
   "outputs": [],
   "source": [
    "summary_chain = load_summarize_chain(\n",
    "llm=llm,\n",
    "chain_type='map_reduce',\n",
    "map_prompt=map_prompt_template,\n",
    "combine_prompt = combine_prompt_template,\n",
    "verbose=False\n",
    ")\n",
    "output+summary_chain.run(chunks)"
   ]
  },
  {
   "cell_type": "code",
   "execution_count": null,
   "id": "d855c44e",
   "metadata": {},
   "outputs": [],
   "source": [
    "print(output)"
   ]
  }
 ],
 "metadata": {
  "kernelspec": {
   "display_name": "Python 3 (ipykernel)",
   "language": "python",
   "name": "python3"
  },
  "language_info": {
   "codemirror_mode": {
    "name": "ipython",
    "version": 3
   },
   "file_extension": ".py",
   "mimetype": "text/x-python",
   "name": "python",
   "nbconvert_exporter": "python",
   "pygments_lexer": "ipython3",
   "version": "3.11.3"
  }
 },
 "nbformat": 4,
 "nbformat_minor": 5
}
